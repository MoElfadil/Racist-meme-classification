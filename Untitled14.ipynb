{
 "cells": [
  {
   "cell_type": "markdown",
   "id": "available-algeria",
   "metadata": {},
   "source": [
    "# Data preparation"
   ]
  },
  {
   "cell_type": "code",
   "execution_count": null,
   "id": "sapphire-partnership",
   "metadata": {},
   "outputs": [],
   "source": [
    "# Clone the repo; Get in the data\n",
    "!cd ../; git clone -b master https://github.com/Muennighoff/vilio.git\n",
    "\n",
    "# Copy in the data you want to run; For simplification I just copy in all (If you run this on kaggle it might crash)\n",
    "# Refer to the extraction notebook if you havn't run extraction yet!\n",
    "!cp -r ../input/hmtsvfeats/* ../vilio/data/\n",
    "!cp -r ../input/hmtsvfeats/* ../vilio/ernie-vil/data/hm/\n",
    "# LMDB feats only used for V-Model\n",
    "!cp -r ../input/hmfeatureszipfin/detectron.lmdb ../vilio/data/\n",
    "\n",
    "# Copy in the hateful memes data from uploading / downloading it\n",
    "# If you do not have enough disk space split up the training of models!\n",
    "# If you downloaded the updated HM data; you just need to copy in everything in the data folder (img, .jsonl's)\n",
    "# Replace the hatefulmemes below with the name of your uploaded data\n",
    "!cp -r ../input/hatefulmemes/data/* ../vilio/data/\n",
    "!cp -r ../input/hatefulmemes/data/* ../vilio/ernie-vil/data/hm/\n",
    "\n",
    "# Copy in the pretrained models depending on which model you want to run; Again just putting all here\n",
    "# I have uploaded them all to kaggle so feel free to download from the below public dataets :)\n",
    "\n",
    "\n",
    "# O\n",
    "!cp ../input/oscarvglarge/large-vg-labels/ep_20_590000/pytorch_model.bin ../vilio/data/\n",
    "\n",
    "# U \n",
    "!cp ../input/uniterlarge/uniter-large.pt ../vilio/data/\n",
    "\n",
    "# V\n",
    "!cp ../input/vbpretrainedfb/model.pth ../vilio/data/"
   ]
  },
  {
   "cell_type": "markdown",
   "id": "sunset-motor",
   "metadata": {},
   "source": [
    "# Run PyTorch models"
   ]
  },
  {
   "cell_type": "code",
   "execution_count": null,
   "id": "arbitrary-passing",
   "metadata": {},
   "outputs": [],
   "source": [
    "# Install the PyTorch requirements\n",
    "!cd ../vilio; pip install -r requirements.txt"
   ]
  },
  {
   "cell_type": "code",
   "execution_count": null,
   "id": "postal-contents",
   "metadata": {},
   "outputs": [],
   "source": [
    "# O\n",
    "!cd ../vilio; bash bash/training/O/hm_O.sh"
   ]
  },
  {
   "cell_type": "code",
   "execution_count": null,
   "id": "alpine-headline",
   "metadata": {},
   "outputs": [],
   "source": [
    "# U\n",
    "!cd ../vilio; bash bash/training/U/hm_U.sh"
   ]
  },
  {
   "cell_type": "code",
   "execution_count": null,
   "id": "studied-argument",
   "metadata": {},
   "outputs": [],
   "source": [
    "# V\n",
    "# Make sure we have the most updated torch with SWA\n",
    "!pip install torch==1.6.0+cu101 torchvision==0.7.0+cu101 -f https://download.pytorch.org/whl/torch_stable.html\n",
    "!cd ../vilio; bash bash/training/V/hm_V.sh"
   ]
  },
  {
   "cell_type": "markdown",
   "id": "fixed-sarah",
   "metadata": {},
   "source": [
    "# Combine and Output"
   ]
  },
  {
   "cell_type": "code",
   "execution_count": null,
   "id": "derived-twist",
   "metadata": {},
   "outputs": [],
   "source": [
    "# Reinstall normal requirements\n",
    "!cd ../vilio; pip install -r requirements.txt"
   ]
  },
  {
   "cell_type": "code",
   "execution_count": null,
   "id": "improved-lancaster",
   "metadata": {},
   "outputs": [],
   "source": [
    "!cp -r ../vilio/data/O*/*.csv ../vilio/data\n",
    "!cp -r ../vilio/data/U*/*.csv ../vilio/data\n",
    "!cp -r ../vilio/data/V*/*.csv ../vilio/data"
   ]
  },
  {
   "cell_type": "code",
   "execution_count": null,
   "id": "floppy-courage",
   "metadata": {},
   "outputs": [],
   "source": [
    "!cd ../vilio; bash bash/hm_ens.sh"
   ]
  },
  {
   "cell_type": "code",
   "execution_count": null,
   "id": "hairy-bangkok",
   "metadata": {},
   "outputs": [],
   "source": [
    "# Save final csvs\n",
    "!cp -r ../vilio/data/FIN*.csv ./"
   ]
  }
 ],
 "metadata": {
  "kernelspec": {
   "display_name": "Python 3",
   "language": "python",
   "name": "python3"
  },
  "language_info": {
   "codemirror_mode": {
    "name": "ipython",
    "version": 3
   },
   "file_extension": ".py",
   "mimetype": "text/x-python",
   "name": "python",
   "nbconvert_exporter": "python",
   "pygments_lexer": "ipython3",
   "version": "3.8.5"
  }
 },
 "nbformat": 4,
 "nbformat_minor": 5
}
