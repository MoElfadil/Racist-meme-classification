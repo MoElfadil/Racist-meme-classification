{
 "cells": [
  {
   "cell_type": "code",
   "execution_count": null,
   "id": "powered-belgium",
   "metadata": {},
   "outputs": [],
   "source": [
    "p"
   ]
  },
  {
   "cell_type": "code",
   "execution_count": null,
   "id": "integrated-translator",
   "metadata": {},
   "outputs": [],
   "source": [
    "!cp -r /usr/local/cuda-10.2/include/*  /usr/local/cuda-10.1/include/"
   ]
  },
  {
   "cell_type": "code",
   "execution_count": null,
   "id": "selected-harvest",
   "metadata": {},
   "outputs": [],
   "source": [
    "!cd ../; git clone -b master https://github.com/Muennighoff/vilio.git\n",
    "!cd ../vilio/py-bottom-up-attention; pip install -r requirements.txt\n",
    "!pip install 'git+https://github.com/cocodataset/cocoapi.git#subdirectory=PythonAPI'\n",
    "!cd ../vilio/py-bottom-up-attention; python setup.py build develop"
   ]
  },
  {
   "cell_type": "code",
   "execution_count": null,
   "id": "whole-shower",
   "metadata": {},
   "outputs": [],
   "source": [
    "!cp -r ../input/fbmdatafinal/fbmdatafinal/data/img ../vilio/py*/data/"
   ]
  },
  {
   "cell_type": "code",
   "execution_count": null,
   "id": "transsexual-blood",
   "metadata": {},
   "outputs": [],
   "source": [
    "!cd ../vilio/py-bottom-up-attention; bash hm_feats.bash"
   ]
  },
  {
   "cell_type": "code",
   "execution_count": null,
   "id": "dense-filling",
   "metadata": {},
   "outputs": [],
   "source": [
    "!cd ../vilio/py*/data; ls"
   ]
  }
 ],
 "metadata": {
  "kernelspec": {
   "display_name": "Python 3",
   "language": "python",
   "name": "python3"
  },
  "language_info": {
   "codemirror_mode": {
    "name": "ipython",
    "version": 3
   },
   "file_extension": ".py",
   "mimetype": "text/x-python",
   "name": "python",
   "nbconvert_exporter": "python",
   "pygments_lexer": "ipython3",
   "version": "3.8.5"
  }
 },
 "nbformat": 4,
 "nbformat_minor": 5
}
