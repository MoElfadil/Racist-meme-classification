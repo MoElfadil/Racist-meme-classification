{
 "cells": [
  {
   "cell_type": "code",
   "execution_count": null,
   "id": "swiss-brook",
   "metadata": {},
   "outputs": [],
   "source": [
    "# Clone the repo; Get in the data\n",
    "!cd ../; git clone -b master https://github.com/Muennighoff/vilio.git\n",
    "    \n",
    "# Copy in the data you want to run; For simplification I just copy in all\n",
    "# Refer to the extraction notebook if you havn't run extraction yet!\n",
    "!cp ../input/hmtsvfeats/* ../vilio/data/\n",
    "!cp ../input/hmtsvfeats/* ../vilio/ernie-vil/data/hm/\n",
    "# LMDB feats only used for V-Model\n",
    "!cp -r ../input/hmfeatureszipfin/detectron.lmdb ../vilio/data/\n",
    "\n",
    "# Copy in the racist memes data from uploading / downloading it\n",
    "# If you do not have enough disk space split up the training of models!\n",
    "# If you downloaded the updated HM data; you just need to copy in everything in the data folder (img, .jsonl's)\n",
    "# Replace the hatefulmemes below with the name of your uploaded data\n",
    "!cp -r ../input/hatefulmemes/data/* ../vilio/data/\n",
    "!cp -r ../input/hatefulmemes/data/* ../vilio/ernie-vil/data/hm/"
   ]
  },
  {
   "cell_type": "code",
   "execution_count": null,
   "id": "lovely-desire",
   "metadata": {},
   "outputs": [],
   "source": [
    "# Throws a weird numpy error, hence reinstall from scratch\n",
    "!pip uninstall numpy\n",
    "!cd ../vilio/ernie-vil; pip install -r requirements.txt"
   ]
  },
  {
   "cell_type": "markdown",
   "id": "signed-acoustic",
   "metadata": {},
   "source": [
    "# O"
   ]
  },
  {
   "cell_type": "code",
   "execution_count": null,
   "id": "normal-billion",
   "metadata": {},
   "outputs": [],
   "source": [
    "!cd ../vilio; bash ./bash/inference/O/hm_OV50.sh ../input/vilioov50/LASTtrain.pth ../input/vilioov50/LASTtraindev.pth"
   ]
  },
  {
   "cell_type": "code",
   "execution_count": null,
   "id": "incredible-award",
   "metadata": {},
   "outputs": [],
   "source": [
    "!cd ../vilio; bash ./bash/inference/O/hm_O50.sh ../input/vilioo50/LASTtrain.pth ../input/vilioo50/LASTtraindev.pth"
   ]
  },
  {
   "cell_type": "code",
   "execution_count": null,
   "id": "separated-cargo",
   "metadata": {},
   "outputs": [],
   "source": [
    "!cd ../vilio; bash ./bash/inference/O/hm_O36.sh ../input/vilioo36/LASTtrain.pth ../input/vilioo36/LASTtraindev.pth"
   ]
  },
  {
   "cell_type": "code",
   "execution_count": null,
   "id": "proprietary-organ",
   "metadata": {},
   "outputs": [],
   "source": [
    "!cd ../vilio; bash ./bash/inference/O/hm_OSA.sh"
   ]
  },
  {
   "cell_type": "markdown",
   "id": "ready-laptop",
   "metadata": {},
   "source": [
    "# U"
   ]
  },
  {
   "cell_type": "code",
   "execution_count": null,
   "id": "unexpected-delhi",
   "metadata": {},
   "outputs": [],
   "source": [
    "!cd ../vilio; bash ./bash/inference/U/hm_U36.sh ../input/viliou36/LASTtrain.pth ../input/viliou36/LASTtraindev.pth"
   ]
  },
  {
   "cell_type": "code",
   "execution_count": null,
   "id": "pharmaceutical-bedroom",
   "metadata": {},
   "outputs": [],
   "source": [
    "!cd ../vilio; bash ./bash/inference/U/hm_U50.sh ../input/viliou50/LASTtrain.pth ../input/viliou50/LASTtraindev.pth"
   ]
  },
  {
   "cell_type": "code",
   "execution_count": null,
   "id": "weighted-anthropology",
   "metadata": {},
   "outputs": [],
   "source": [
    "!cd ../vilio; bash ./bash/inference/U/hm_U72.sh ../input/viliou72/LASTtrain.pth ../input/viliou72/LASTtraindev.pth"
   ]
  },
  {
   "cell_type": "code",
   "execution_count": null,
   "id": "impossible-penguin",
   "metadata": {},
   "outputs": [],
   "source": [
    "!cd ../vilio; bash ./bash/inference/U/hm_USA.sh"
   ]
  },
  {
   "cell_type": "markdown",
   "id": "latest-target",
   "metadata": {},
   "source": [
    "# V"
   ]
  },
  {
   "cell_type": "code",
   "execution_count": null,
   "id": "intellectual-sperm",
   "metadata": {},
   "outputs": [],
   "source": [
    "!cd ../vilio; bash ./bash/inference/V/hm_VLMDB.sh"
   ]
  },
  {
   "cell_type": "code",
   "execution_count": null,
   "id": "undefined-correction",
   "metadata": {},
   "outputs": [],
   "source": [
    "!cd ../vilio; bash ./bash/inference/V/hm_V45.sh ../input/viliov45/LASTtrain.pth ../input/viliov45/LASTtraindev.pth"
   ]
  },
  {
   "cell_type": "code",
   "execution_count": null,
   "id": "offensive-province",
   "metadata": {},
   "outputs": [],
   "source": [
    "!cd ../vilio; bash ./bash/inference/V/hm_V90.sh ../input/viliov90/LASTtrain.pth ../input/viliov90/LASTtraindev.pth"
   ]
  },
  {
   "cell_type": "code",
   "execution_count": null,
   "id": "arctic-robertson",
   "metadata": {},
   "outputs": [],
   "source": [
    "!cd ../vilio; bash ./bash/inference/V/hm_V135.sh ../input/viliov135/LASTtrain.pth ../input/viliov135/LASTtraindev.pth"
   ]
  },
  {
   "cell_type": "code",
   "execution_count": null,
   "id": "personalized-presence",
   "metadata": {},
   "outputs": [],
   "source": [
    "!cd ../vilio; bash ./bash/inference/V/hm_VSA.sh"
   ]
  },
  {
   "cell_type": "markdown",
   "id": "spiritual-shareware",
   "metadata": {},
   "source": [
    "# Combine"
   ]
  },
  {
   "cell_type": "code",
   "execution_count": null,
   "id": "scientific-lotus",
   "metadata": {},
   "outputs": [],
   "source": [
    "!cp -r ../vilio/data/O*/*.csv ../vilio/data\n",
    "!cp -r ../vilio/data/U*/*.csv ../vilio/data\n",
    "!cp -r ../vilio/data/V*/*.csv ../vilio/data"
   ]
  },
  {
   "cell_type": "code",
   "execution_count": null,
   "id": "provincial-upper",
   "metadata": {},
   "outputs": [],
   "source": [
    "# Run ensembling\n",
    "!cd ../vilio; bash bash/hm_ens.sh"
   ]
  },
  {
   "cell_type": "code",
   "execution_count": null,
   "id": "introductory-reunion",
   "metadata": {},
   "outputs": [],
   "source": [
    "# Save all csvs; The three csvs starting with FIN are the final one's to submit (dev, test_seen, test_unseen)\n",
    "!cp -r ../vilio/data/*.csv ./"
   ]
  }
 ],
 "metadata": {
  "kernelspec": {
   "display_name": "Python 3",
   "language": "python",
   "name": "python3"
  },
  "language_info": {
   "codemirror_mode": {
    "name": "ipython",
    "version": 3
   },
   "file_extension": ".py",
   "mimetype": "text/x-python",
   "name": "python",
   "nbconvert_exporter": "python",
   "pygments_lexer": "ipython3",
   "version": "3.8.5"
  }
 },
 "nbformat": 4,
 "nbformat_minor": 5
}
